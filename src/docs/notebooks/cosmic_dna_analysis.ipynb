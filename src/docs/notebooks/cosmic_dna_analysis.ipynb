{
 "cells": [
  {
   "cell_type": "markdown",
   "metadata": {},
   "source": [
    "# Cosmic DNA Analysis Notebook\n\nRun the full pipeline: catalog generation, MCMC optimization, and validation."
   ]
  },
  {
   "cell_type": "code",
   "execution_count": null,
   "metadata": {},
   "outputs": [],
   "source": [
    "from src.cosmic_dna_validator import CosmicDNAMetricsValidator\n",
    "from src.plot_utils import plot_cosmic_dna_metrics_results\n",
    "validator = CosmicDNAMetricsValidator()\n",
    "positions, velocities, box_size = validator.generate_realistic_catalog_with_velocities(n_galaxies=15000, box_size=500, bias=1.8, sigma_v=400)\n",
    "r_bins = np.logspace(-1, 2, 25)\n",
    "best_params, mcmc_samples = validator.optimize_coefficients_mcmc(positions, velocities, r_bins, box_size, n_walkers=32, n_steps=1000, burn_in=200)\n",
    "results = validator.comprehensive_validation(positions, velocities, r_bins, box_size, bias=1.8, regimes=[\n",
    "    {'name': 'Monolith', 'alpha': 1e-16, 'beta': 1e-18, 'gamma': 1e-18, 'delta': 1e-18, 'nu': 1e-18, 'b': 1e-18, 'c': 1e-18},\n",
    "    {'name': 'Crystal', 'alpha': 1e-18, 'beta': 1e-16, 'gamma': 1e-18, 'delta': 1e-18, 'nu': 1e-18, 'b': 1e-18, 'c': 1e-18},\n",
    "    {'name': 'Balanced', 'alpha': 5e-17, 'beta': 5e-17, 'gamma': 5e-17, 'delta': 5e-17, 'nu': 5e-17, 'b': 5e-17, 'c': 5e-17},\n",
    "    {'name': 'MCMC', 'alpha': best_params[0], 'beta': best_params[1], 'gamma': best_params[2], 'delta': best_params[3], 'nu': best_params[4], 'b': best_params[5], 'c': best_params[6]}\n",
    "])\n",
    "plot_cosmic_dna_metrics_results(results, validator, mcmc_samples, best_params)"
   ]
  }
 ],
 "metadata": {
  "kernelspec": {
   "display_name": "Python 3",
   "language": "python",
   "name": "python3"
  },
  "language_info": {
   "codemirror_mode": {
    "name": "ipython",
    "version": 3
   },
   "file_extension": ".py",
   "mimetype": "text/x-python",
   "name": "python",
   "nbconvert_exporter": "python",
   "pygments_lexer": "ipython3",
   "version": "3.12.3"
  }
 },
 "nbformat": 4,
 "nbformat_minor": 2
}
