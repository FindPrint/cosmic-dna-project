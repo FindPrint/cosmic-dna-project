{
 "cells": [
  {
   "cell_type": "markdown",
   "metadata": {},
   "source": [
    "# Cosmic DNA Analysis Notebook\n\nRun the full pipeline: catalog generation, MCMC optimization, and validation."
   ]
  },
  {
   "cell_type": "code",
   "execution_count": null,
   "metadata": {},
   "outputs": [],
   "source": [
    "from src.cosmic_dna_validator import CosmicDNAMetricsValidator\n",
    "from src.plot_utils import plot_cosmic_dna_metrics_results\n",
    "validator = CosmicDNAMetricsValidator()\n",
    "positions, velocities, box_size = validator.generate_realistic_catalog_with_velocities(n_galaxies=15000, box_size=500, bias=1.8, sigma_v=400)\n",
    "r_bins = np.logspace(-1, 2, 25)\n",
    "results, best_params, mcmc_samples = validator.comprehensive_validation(positions, velocities, r_bins, box_size, bias=1.8)\n",
    "plot_cosmic_dna_metrics_results(results, validator, mcmc_samples, best_params)"
   ]
  }
 ],
 "metadata": {
  "kernelspec": {
   "display_name": "Python 3",
   "language": "python",
   "name": "python3"
  },
  "language_info": {
   "codemirror_mode": {
    "name": "ipython",
    "version": 3
   },
   "file_extension": ".py",
   "mimetype": "text/x-python",
   "name": "python",
   "nbconvert_exporter": "python",
   "pygments_lexer": "ipython3",
   "version": "3.12.3"
  }
 },
 "nbformat": 4,
 "nbformat_minor": 2
}
